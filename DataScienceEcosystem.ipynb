{
 "cells": [
  {
   "cell_type": "markdown",
   "id": "31d59752-eb6e-436f-93c1-e76497f651e8",
   "metadata": {
    "panel-layout": {
     "height": 51.1354,
     "visible": true,
     "width": 100
    }
   },
   "source": [
    "# Data Science Tools and Ecosystem"
   ]
  },
  {
   "cell_type": "markdown",
   "id": "f04e307b-e8a5-4fb2-9b43-266bd1ccfdd1",
   "metadata": {},
   "source": [
    "In this notebook, Data Science Tools and Ecosystem are summarized."
   ]
  },
  {
   "cell_type": "markdown",
   "id": "86f80976-f561-4a04-a065-42ab0e465a5f",
   "metadata": {},
   "source": [
    "## Objectives:\n",
    "\n",
    "* List popular languages for Data Science\n",
    "* List popular libraries Data Science\n",
    "* List popular tools for Data Science"
   ]
  },
  {
   "cell_type": "markdown",
   "id": "8029003b-5474-47db-a6e0-6d309592a999",
   "metadata": {},
   "source": [
    "Some of the poplular languages that Data Scientists use are:\n",
    "\n",
    "1. Python\n",
    "2. Java\n",
    "3. JavaScript\n",
    "4. C++\n",
    "5. R\n",
    "6. MATLAB\n",
    "7. SQL\n",
    "8. Julia\n",
    "9. Scala\n",
    "\n"
   ]
  },
  {
   "cell_type": "raw",
   "id": "5342af54-7b0e-400c-9d5f-c51ece63517a",
   "metadata": {},
   "source": [
    "Some of the popular libraries that Data Scientists use are:\n",
    "\n",
    "1. Panda\n",
    "2. Numpy\n",
    "3. Matpotlib\n",
    "4. Scikit\n",
    "5. TensorFlow\n",
    "6. PyTorch\n",
    "7. Plotly\n",
    "8. Seaborn\n",
    "9. Keras\n",
    "10. SciPy"
   ]
  },
  {
   "cell_type": "markdown",
   "id": "938728dc-4cf3-4340-8ec3-679a28261365",
   "metadata": {},
   "source": [
    "Data Science Tools: \n",
    "\n",
    "1. Jupyter \n",
    "2. Git\n",
    "3. IBM Watson Studio\n",
    "4. Anaconda\n",
    "5. Apache Hadoop\n",
    "6. Apache Spark\n",
    "7. CouchDB\n",
    "8. MySQL\n"
   ]
  },
  {
   "cell_type": "markdown",
   "id": "52f3731f-c43f-408c-915b-d58ee723bd2b",
   "metadata": {},
   "source": [
    "### Below are a few examples of evaluating arithmetic expressions in Python:\n",
    "\n",
    "1.  (*) multiplication\n",
    "2.  (/) division\n",
    "3.  (+) addition\n",
    "4.  (-) substraction"
   ]
  },
  {
   "cell_type": "markdown",
   "id": "c68c9557-2b62-4d48-8e4d-f266807f43a5",
   "metadata": {},
   "source": [
    " This will convert 200 minutes to hours by diving by 60:\n"
   ]
  },
  {
   "cell_type": "code",
   "execution_count": 13,
   "id": "c794e9d9-3b5c-437c-b27d-5dfcf73fcfd3",
   "metadata": {},
   "outputs": [
    {
     "data": {
      "text/plain": [
       "3.3333333333333335"
      ]
     },
     "execution_count": 13,
     "metadata": {},
     "output_type": "execute_result"
    }
   ],
   "source": [
    "200/60"
   ]
  },
  {
   "cell_type": "markdown",
   "id": "87f23b35-b852-47f7-affe-8d10b350ecb5",
   "metadata": {},
   "source": [
    "This a simple arithmetic expression to mutiply then add integers:"
   ]
  },
  {
   "cell_type": "code",
   "execution_count": 16,
   "id": "17bdfddb-7a9b-4d8a-9416-09edd22756f8",
   "metadata": {},
   "outputs": [
    {
     "data": {
      "text/plain": [
       "17"
      ]
     },
     "execution_count": 16,
     "metadata": {},
     "output_type": "execute_result"
    }
   ],
   "source": [
    "(3*4)+5"
   ]
  },
  {
   "cell_type": "markdown",
   "id": "46c6af42-fe22-4ab1-9a2f-67f7b19c0cdf",
   "metadata": {},
   "source": [
    "## Author \n",
    "Hajikerim Aliyev"
   ]
  },
  {
   "cell_type": "code",
   "execution_count": null,
   "id": "cc8f64d6-d24f-4bff-ac32-773b5d2c8507",
   "metadata": {},
   "outputs": [],
   "source": []
  }
 ],
 "metadata": {
  "kernelspec": {
   "display_name": "Python 3 (ipykernel)",
   "language": "python",
   "name": "python3"
  },
  "language_info": {
   "codemirror_mode": {
    "name": "ipython",
    "version": 3
   },
   "file_extension": ".py",
   "mimetype": "text/x-python",
   "name": "python",
   "nbconvert_exporter": "python",
   "pygments_lexer": "ipython3",
   "version": "3.12.4"
  },
  "panel-cell-order": [
   "31d59752-eb6e-436f-93c1-e76497f651e8"
  ]
 },
 "nbformat": 4,
 "nbformat_minor": 5
}
